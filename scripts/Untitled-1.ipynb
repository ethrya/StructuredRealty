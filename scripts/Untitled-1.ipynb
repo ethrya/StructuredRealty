{
 "cells": [
  {
   "cell_type": "code",
   "execution_count": null,
   "metadata": {},
   "outputs": [
    {
     "data": {
      "text/plain": [
       "Traceback (most recent call last):\n",
       "  File \"/Users/ethanryan/.vscode/extensions/ms-python.python-2024.22.0-darwin-arm64/python_files/python_server.py\", line 133, in exec_user_input\n",
       "    retval = callable_(user_input, user_globals)\n",
       "  File \"<string>\", line 14, in <module>\n",
       "ModuleNotFoundError: No module named 'helpers'\n",
       "\n"
      ]
     },
     "metadata": {},
     "output_type": "display_data"
    }
   ],
   "source": [
    "import os\n",
    "import re\n",
    "from bs4 import BeautifulSoup\n",
    "import selenium\n",
    "from selenium import webdriver\n",
    "from selenium.webdriver.common.by import By\n",
    "from selenium.webdriver.common.keys import Keys\n",
    "from selenium.webdriver.chrome.service import Service\n",
    "import pandas as pd\n",
    "from pyarrow import Table\n",
    "from pyarrow import parquet as pq\n",
    "import time\n",
    "import datetime\n",
    "from helpers.domain_scrapers import get_bed_bath_park_data, get_element_html_by_class, get_listing_info\n",
    "suburbs = \"campbell-act-2612,reid-act-2612,braddon-act-2612,ainslie-act-2602,dickson-act-2602,lyneham-act-2602,o-connor-act-2602,turner-act-2612,downer-act-2602,watson-act-2602\"\n",
    "domain_base_page = \"https://www.domain.com.au/sold-listings/?suburb=\" + suburbs +\"&excludepricewithheld=1&page=\"\n",
    "n_pages = 40\n",
    "domain_pages = [domain_base_page + str(i+1) for i in range(n_pages)]\n"
   ]
  },
  {
   "cell_type": "code",
   "execution_count": null,
   "metadata": {},
   "outputs": [],
   "source": [
    "import sys"
   ]
  },
  {
   "cell_type": "code",
   "execution_count": null,
   "metadata": {},
   "outputs": [
    {
     "data": {
      "text/plain": [
       "Traceback (most recent call last):\n",
       "  File \"/Users/ethanryan/.vscode/extensions/ms-python.python-2024.22.0-darwin-arm64/python_files/python_server.py\", line 133, in exec_user_input\n",
       "    retval = callable_(user_input, user_globals)\n",
       "  File \"<string>\", line 1, in <module>\n",
       "TypeError: 'list' object is not callable\n",
       "\n"
      ]
     },
     "metadata": {},
     "output_type": "display_data"
    }
   ],
   "source": [
    "sys.path(\"helpers\")"
   ]
  },
  {
   "cell_type": "code",
   "execution_count": null,
   "metadata": {},
   "outputs": [],
   "source": [
    "sys.path.append(\"helpers\")"
   ]
  },
  {
   "cell_type": "code",
   "execution_count": null,
   "metadata": {},
   "outputs": [
    {
     "data": {
      "text/plain": [
       "Traceback (most recent call last):\n",
       "  File \"/Users/ethanryan/.vscode/extensions/ms-python.python-2024.22.0-darwin-arm64/python_files/python_server.py\", line 133, in exec_user_input\n",
       "    retval = callable_(user_input, user_globals)\n",
       "  File \"<string>\", line 1, in <module>\n",
       "ModuleNotFoundError: No module named 'helpers'\n",
       "\n"
      ]
     },
     "metadata": {},
     "output_type": "display_data"
    }
   ],
   "source": [
    "from helpers.domain_scrapers import get_bed_bath_park_data, get_element_html_by_class, get_listing_info\n"
   ]
  },
  {
   "cell_type": "code",
   "execution_count": null,
   "metadata": {},
   "outputs": [],
   "source": [
    "sys.path.append(\"/Users/ethanryan/Documents/code/housing_data/helpers\")"
   ]
  },
  {
   "cell_type": "code",
   "execution_count": null,
   "metadata": {},
   "outputs": [
    {
     "data": {
      "text/plain": [
       "Traceback (most recent call last):\n",
       "  File \"/Users/ethanryan/.vscode/extensions/ms-python.python-2024.22.0-darwin-arm64/python_files/python_server.py\", line 133, in exec_user_input\n",
       "    retval = callable_(user_input, user_globals)\n",
       "  File \"<string>\", line 1, in <module>\n",
       "ModuleNotFoundError: No module named 'helpers'\n",
       "\n"
      ]
     },
     "metadata": {},
     "output_type": "display_data"
    }
   ],
   "source": [
    "from helpers.domain_scrapers import get_bed_bath_park_data, get_element_html_by_class, get_listing_info\n"
   ]
  },
  {
   "cell_type": "code",
   "execution_count": null,
   "metadata": {},
   "outputs": [],
   "source": [
    "import os"
   ]
  },
  {
   "cell_type": "code",
   "execution_count": null,
   "metadata": {},
   "outputs": [
    {
     "data": {
      "text/plain": [
       "/Users/ethanryan/Documents/code/housing_data\n"
      ]
     },
     "metadata": {},
     "output_type": "display_data"
    }
   ],
   "source": [
    "os.getcwd()"
   ]
  },
  {
   "cell_type": "code",
   "execution_count": null,
   "metadata": {},
   "outputs": [],
   "source": [
    "import selenium\n",
    "from selenium import webdriver\n",
    "from selenium.webdriver.common.by import By\n",
    "import re\n",
    "import time\n",
    "from bs4 import BeautifulSoup\n",
    "def get_element_html_by_class(driver, class_name):\n",
    "    try:\n",
    "        element_html = driver.find_element(by = By.CLASS_NAME, value = class_name).get_attribute(\"innerHTML\")\n",
    "    except selenium.common.exceptions.NoSuchElementException:\n",
    "        element_html = \"\"\n",
    "    return element_html\n",
    "\n",
    "def get_bed_bath_park_data(element):\n",
    "    try:\n",
    "        n = re.search(\"^\\d{1}\", element.get_attribute(\"innerHTML\")).group()\n",
    "    except AttributeError:\n",
    "        n = \"0\"\n",
    "    return n\n",
    "\n",
    "def get_listing_info(driver, listing_link):\n",
    "    # Navigate to listing\n",
    "    print(\"Navigating to listing: \" + listing_link)\n",
    "    try: \n",
    "        driver.get(listing_link)\n",
    "    except selenium.common.exceptions.TimeoutException:\n",
    "        print(\"Force timed out... continuing\")\n",
    "    time.sleep(10)\n",
    "    # Get key listing stats\n",
    "    address = get_element_html_by_class(driver, \"css-164r41r\")\n",
    "    sale = get_element_html_by_class(driver, \"css-twgrok\")\n",
    "    sale_method_date = get_element_html_by_class(driver, \"css-h9g9i3\")\n",
    "    key_details = driver.find_element(by = By.CLASS_NAME, value = \"css-1dtnjt5\")\n",
    "    element = key_details.find_elements(by = By.CLASS_NAME, value = \"css-lvv8is\")\n",
    "    dwelling_type = key_details.find_element(by = By.CLASS_NAME, value=\"css-in3yi3\")\n",
    "    # There is a read more button that hides additional property lising into and needs to be clicked\n",
    "    read_more_button = driver.find_element(by = By.CLASS_NAME, value = \"css-1pn4141\")\n",
    "    read_more_button.click()\n",
    "    time.sleep(5)\n",
    "    property_desc = get_element_html_by_class(driver, \"css-bq4jj8\")\n",
    "    # Get the elements saved above and tidy into a usable format\n",
    "    listing_info = {\"address\": address,\n",
    "            \"sale_price\": re.search(\"\\$[\\d\\,]+\", sale).group(),\n",
    "            \"sale_date\": re.sub(\"^Sold by (\\D+)(\\d{1,2}.+20\\d{2})$\", \"\\g<2>\", sale_method_date),\n",
    "            \"sale_method\": re.sub(\"^Sold by (\\D+)(\\d{1,2}.+20\\d{2}$)\", \"\\g<1>\", sale_method_date),\n",
    "            \"dwelling_type\": dwelling_type.get_attribute(\"innerHTML\"),\n",
    "            \"n_beds\": get_bed_bath_park_data(element[0]),\n",
    "            \"n_bath\": get_bed_bath_park_data(element[1]),\n",
    "            \"n_park\": get_bed_bath_park_data(element[2]),\n",
    "            \"property_desc_text\": BeautifulSoup(property_desc, \"lxml\").text\n",
    "    }\n",
    "    return listing_info\n",
    "\n"
   ]
  },
  {
   "cell_type": "code",
   "execution_count": null,
   "metadata": {},
   "outputs": [],
   "source": [
    "import os\n",
    "import re\n",
    "from bs4 import BeautifulSoup\n",
    "import selenium\n",
    "from selenium import webdriver\n",
    "from selenium.webdriver.common.by import By\n",
    "from selenium.webdriver.common.keys import Keys\n",
    "from selenium.webdriver.chrome.service import Service\n",
    "import pandas as pd\n",
    "from pyarrow import Table\n",
    "from pyarrow import parquet as pq\n",
    "import time\n",
    "import datetime\n"
   ]
  },
  {
   "cell_type": "code",
   "execution_count": null,
   "metadata": {},
   "outputs": [],
   "source": [
    "suburbs = \"campbell-act-2612,reid-act-2612,braddon-act-2612,ainslie-act-2602,dickson-act-2602,lyneham-act-2602,o-connor-act-2602,turner-act-2612,downer-act-2602,watson-act-2602\"\n"
   ]
  },
  {
   "cell_type": "code",
   "execution_count": null,
   "metadata": {},
   "outputs": [],
   "source": [
    "domain_base_page = \"https://www.domain.com.au/sold-listings/?suburb=\" + suburbs +\"&excludepricewithheld=1&page=\"\n"
   ]
  },
  {
   "cell_type": "code",
   "execution_count": null,
   "metadata": {},
   "outputs": [],
   "source": [
    "n_pages = 40\n"
   ]
  },
  {
   "cell_type": "code",
   "execution_count": null,
   "metadata": {},
   "outputs": [],
   "source": [
    "domain_pages = [domain_base_page + str(i+1) for i in range(n_pages)]\n"
   ]
  },
  {
   "cell_type": "code",
   "execution_count": null,
   "metadata": {},
   "outputs": [
    {
     "data": {
      "text/plain": [
       "['https://www.domain.com.au/sold-listings/?suburb=campbell-act-2612,reid-act-2612,braddon-act-2612,ainslie-act-2602,dickson-act-2602,lyneham-act-2602,o-connor-act-2602,turner-act-2612,downer-act-2602,watson-act-2602&excludepricewithheld=1&page=1', 'https://www.domain.com.au/sold-listings/?suburb=campbell-act-2612,reid-act-2612,braddon-act-2612,ainslie-act-2602,dickson-act-2602,lyneham-act-2602,o-connor-act-2602,turner-act-2612,downer-act-2602,watson-act-2602&excludepricewithheld=1&page=2', 'https://www.domain.com.au/sold-listings/?suburb=campbell-act-2612,reid-act-2612,braddon-act-2612,ainslie-act-2602,dickson-act-2602,lyneham-act-2602,o-connor-act-2602,turner-act-2612,downer-act-2602,watson-act-2602&excludepricewithheld=1&page=3', 'https://www.domain.com.au/sold-listings/?suburb=campbell-act-2612,reid-act-2612,braddon-act-2612,ainslie-act-2602,dickson-act-2602,lyneham-act-2602,o-connor-act-2602,turner-act-2612,downer-act-2602,watson-act-2602&excludepricewithheld=1&page=4', 'https://www.domain.com.au/sold-listings/?suburb=campbell-act-2612,reid-act-2612,braddon-act-2612,ainslie-act-2602,dickson-act-2602,lyneham-act-2602,o-connor-act-2602,turner-act-2612,downer-act-2602,watson-act-2602&excludepricewithheld=1&page=5', 'https://www.domain.com.au/sold-listings/?suburb=campbell-act-2612,reid-act-2612,braddon-act-2612,ainslie-act-2602,dickson-act-2602,lyneham-act-2602,o-connor-act-2602,turner-act-2612,downer-act-2602,watson-act-2602&excludepricewithheld=1&page=6', 'https://www.domain.com.au/sold-listings/?suburb=campbell-act-2612,reid-act-2612,braddon-act-2612,ainslie-act-2602,dickson-act-2602,lyneham-act-2602,o-connor-act-2602,turner-act-2612,downer-act-2602,watson-act-2602&excludepricewithheld=1&page=7', 'https://www.domain.com.au/sold-listings/?suburb=campbell-act-2612,reid-act-2612,braddon-act-2612,ainslie-act-2602,dickson-act-2602,lyneham-act-2602,o-connor-act-2602,turner-act-2612,downer-act-2602,watson-act-2602&excludepricewithheld=1&page=8', 'https://www.domain.com.au/sold-listings/?suburb=campbell-act-2612,reid-act-2612,braddon-act-2612,ainslie-act-2602,dickson-act-2602,lyneham-act-2602,o-connor-act-2602,turner-act-2612,downer-act-2602,watson-act-2602&excludepricewithheld=1&page=9', 'https://www.domain.com.au/sold-listings/?suburb=campbell-act-2612,reid-act-2612,braddon-act-2612,ainslie-act-2602,dickson-act-2602,lyneham-act-2602,o-connor-act-2602,turner-act-2612,downer-act-2602,watson-act-2602&excludepricewithheld=1&page=10', 'https://www.domain.com.au/sold-listings/?suburb=campbell-act-2612,reid-act-2612,braddon-act-2612,ainslie-act-2602,dickson-act-2602,lyneham-act-2602,o-connor-act-2602,turner-act-2612,downer-act-2602,watson-act-2602&excludepricewithheld=1&page=11', 'https://www.domain.com.au/sold-listings/?suburb=campbell-act-2612,reid-act-2612,braddon-act-2612,ainslie-act-2602,dickson-act-2602,lyneham-act-2602,o-connor-act-2602,turner-act-2612,downer-act-2602,watson-act-2602&excludepricewithheld=1&page=12', 'https://www.domain.com.au/sold-listings/?suburb=campbell-act-2612,reid-act-2612,braddon-act-2612,ainslie-act-2602,dickson-act-2602,lyneham-act-2602,o-connor-act-2602,turner-act-2612,downer-act-2602,watson-act-2602&excludepricewithheld=1&page=13', 'https://www.domain.com.au/sold-listings/?suburb=campbell-act-2612,reid-act-2612,braddon-act-2612,ainslie-act-2602,dickson-act-2602,lyneham-act-2602,o-connor-act-2602,turner-act-2612,downer-act-2602,watson-act-2602&excludepricewithheld=1&page=14', 'https://www.domain.com.au/sold-listings/?suburb=campbell-act-2612,reid-act-2612,braddon-act-2612,ainslie-act-2602,dickson-act-2602,lyneham-act-2602,o-connor-act-2602,turner-act-2612,downer-act-2602,watson-act-2602&excludepricewithheld=1&page=15', 'https://www.domain.com.au/sold-listings/?suburb=campbell-act-2612,reid-act-2612,braddon-act-2612,ainslie-act-2602,dickson-act-2602,lyneham-act-2602,o-connor-act-2602,turner-act-2612,downer-act-2602,watson-act-2602&excludepricewithheld=1&page=16', 'https://www.domain.com.au/sold-listings/?suburb=campbell-act-2612,reid-act-2612,braddon-act-2612,ainslie-act-2602,dickson-act-2602,lyneham-act-2602,o-connor-act-2602,turner-act-2612,downer-act-2602,watson-act-2602&excludepricewithheld=1&page=17', 'https://www.domain.com.au/sold-listings/?suburb=campbell-act-2612,reid-act-2612,braddon-act-2612,ainslie-act-2602,dickson-act-2602,lyneham-act-2602,o-connor-act-2602,turner-act-2612,downer-act-2602,watson-act-2602&excludepricewithheld=1&page=18', 'https://www.domain.com.au/sold-listings/?suburb=campbell-act-2612,reid-act-2612,braddon-act-2612,ainslie-act-2602,dickson-act-2602,lyneham-act-2602,o-connor-act-2602,turner-act-2612,downer-act-2602,watson-act-2602&excludepricewithheld=1&page=19', 'https://www.domain.com.au/sold-listings/?suburb=campbell-act-2612,reid-act-2612,braddon-act-2612,ainslie-act-2602,dickson-act-2602,lyneham-act-2602,o-connor-act-2602,turner-act-2612,downer-act-2602,watson-act-2602&excludepricewithheld=1&page=20', 'https://www.domain.com.au/sold-listings/?suburb=campbell-act-2612,reid-act-2612,braddon-act-2612,ainslie-act-2602,dickson-act-2602,lyneham-act-2602,o-connor-act-2602,turner-act-2612,downer-act-2602,watson-act-2602&excludepricewithheld=1&page=21', 'https://www.domain.com.au/sold-listings/?suburb=campbell-act-2612,reid-act-2612,braddon-act-2612,ainslie-act-2602,dickson-act-2602,lyneham-act-2602,o-connor-act-2602,turner-act-2612,downer-act-2602,watson-act-2602&excludepricewithheld=1&page=22', 'https://www.domain.com.au/sold-listings/?suburb=campbell-act-2612,reid-act-2612,braddon-act-2612,ainslie-act-2602,dickson-act-2602,lyneham-act-2602,o-connor-act-2602,turner-act-2612,downer-act-2602,watson-act-2602&excludepricewithheld=1&page=23', 'https://www.domain.com.au/sold-listings/?suburb=campbell-act-2612,reid-act-2612,braddon-act-2612,ainslie-act-2602,dickson-act-2602,lyneham-act-2602,o-connor-act-2602,turner-act-2612,downer-act-2602,watson-act-2602&excludepricewithheld=1&page=24', 'https://www.domain.com.au/sold-listings/?suburb=campbell-act-2612,reid-act-2612,braddon-act-2612,ainslie-act-2602,dickson-act-2602,lyneham-act-2602,o-connor-act-2602,turner-act-2612,downer-act-2602,watson-act-2602&excludepricewithheld=1&page=25', 'https://www.domain.com.au/sold-listings/?suburb=campbell-act-2612,reid-act-2612,braddon-act-2612,ainslie-act-2602,dickson-act-2602,lyneham-act-2602,o-connor-act-2602,turner-act-2612,downer-act-2602,watson-act-2602&excludepricewithheld=1&page=26', 'https://www.domain.com.au/sold-listings/?suburb=campbell-act-2612,reid-act-2612,braddon-act-2612,ainslie-act-2602,dickson-act-2602,lyneham-act-2602,o-connor-act-2602,turner-act-2612,downer-act-2602,watson-act-2602&excludepricewithheld=1&page=27', 'https://www.domain.com.au/sold-listings/?suburb=campbell-act-2612,reid-act-2612,braddon-act-2612,ainslie-act-2602,dickson-act-2602,lyneham-act-2602,o-connor-act-2602,turner-act-2612,downer-act-2602,watson-act-2602&excludepricewithheld=1&page=28', 'https://www.domain.com.au/sold-listings/?suburb=campbell-act-2612,reid-act-2612,braddon-act-2612,ainslie-act-2602,dickson-act-2602,lyneham-act-2602,o-connor-act-2602,turner-act-2612,downer-act-2602,watson-act-2602&excludepricewithheld=1&page=29', 'https://www.domain.com.au/sold-listings/?suburb=campbell-act-2612,reid-act-2612,braddon-act-2612,ainslie-act-2602,dickson-act-2602,lyneham-act-2602,o-connor-act-2602,turner-act-2612,downer-act-2602,watson-act-2602&excludepricewithheld=1&page=30', 'https://www.domain.com.au/sold-listings/?suburb=campbell-act-2612,reid-act-2612,braddon-act-2612,ainslie-act-2602,dickson-act-2602,lyneham-act-2602,o-connor-act-2602,turner-act-2612,downer-act-2602,watson-act-2602&excludepricewithheld=1&page=31', 'https://www.domain.com.au/sold-listings/?suburb=campbell-act-2612,reid-act-2612,braddon-act-2612,ainslie-act-2602,dickson-act-2602,lyneham-act-2602,o-connor-act-2602,turner-act-2612,downer-act-2602,watson-act-2602&excludepricewithheld=1&page=32', 'https://www.domain.com.au/sold-listings/?suburb=campbell-act-2612,reid-act-2612,braddon-act-2612,ainslie-act-2602,dickson-act-2602,lyneham-act-2602,o-connor-act-2602,turner-act-2612,downer-act-2602,watson-act-2602&excludepricewithheld=1&page=33', 'https://www.domain.com.au/sold-listings/?suburb=campbell-act-2612,reid-act-2612,braddon-act-2612,ainslie-act-2602,dickson-act-2602,lyneham-act-2602,o-connor-act-2602,turner-act-2612,downer-act-2602,watson-act-2602&excludepricewithheld=1&page=34', 'https://www.domain.com.au/sold-listings/?suburb=campbell-act-2612,reid-act-2612,braddon-act-2612,ainslie-act-2602,dickson-act-2602,lyneham-act-2602,o-connor-act-2602,turner-act-2612,downer-act-2602,watson-act-2602&excludepricewithheld=1&page=35', 'https://www.domain.com.au/sold-listings/?suburb=campbell-act-2612,reid-act-2612,braddon-act-2612,ainslie-act-2602,dickson-act-2602,lyneham-act-2602,o-connor-act-2602,turner-act-2612,downer-act-2602,watson-act-2602&excludepricewithheld=1&page=36', 'https://www.domain.com.au/sold-listings/?suburb=campbell-act-2612,reid-act-2612,braddon-act-2612,ainslie-act-2602,dickson-act-2602,lyneham-act-2602,o-connor-act-2602,turner-act-2612,downer-act-2602,watson-act-2602&excludepricewithheld=1&page=37', 'https://www.domain.com.au/sold-listings/?suburb=campbell-act-2612,reid-act-2612,braddon-act-2612,ainslie-act-2602,dickson-act-2602,lyneham-act-2602,o-connor-act-2602,turner-act-2612,downer-act-2602,watson-act-2602&excludepricewithheld=1&page=38', 'https://www.domain.com.au/sold-listings/?suburb=campbell-act-2612,reid-act-2612,braddon-act-2612,ainslie-act-2602,dickson-act-2602,lyneham-act-2602,o-connor-act-2602,turner-act-2612,downer-act-2602,watson-act-2602&excludepricewithheld=1&page=39', 'https://www.domain.com.au/sold-listings/?suburb=campbell-act-2612,reid-act-2612,braddon-act-2612,ainslie-act-2602,dickson-act-2602,lyneham-act-2602,o-connor-act-2602,turner-act-2612,downer-act-2602,watson-act-2602&excludepricewithheld=1&page=40']\n"
      ]
     },
     "metadata": {},
     "output_type": "display_data"
    }
   ],
   "source": [
    "domain_pages\n"
   ]
  },
  {
   "cell_type": "code",
   "execution_count": null,
   "metadata": {},
   "outputs": [],
   "source": [
    "import pickle"
   ]
  },
  {
   "cell_type": "code",
   "execution_count": null,
   "metadata": {},
   "outputs": [
    {
     "data": {
      "text/plain": [
       "Traceback (most recent call last):\n",
       "  File \"/Users/ethanryan/.vscode/extensions/ms-python.python-2024.22.0-darwin-arm64/python_files/python_server.py\", line 133, in exec_user_input\n",
       "    retval = callable_(user_input, user_globals)\n",
       "  File \"<string>\", line 1, in <module>\n",
       "AttributeError: module 'time' has no attribute 'st'\n",
       "\n"
      ]
     },
     "metadata": {},
     "output_type": "display_data"
    }
   ],
   "source": [
    "time.st"
   ]
  },
  {
   "cell_type": "code",
   "execution_count": null,
   "metadata": {},
   "outputs": [
    {
     "data": {
      "text/plain": [
       "Traceback (most recent call last):\n",
       "  File \"/Users/ethanryan/.vscode/extensions/ms-python.python-2024.22.0-darwin-arm64/python_files/python_server.py\", line 133, in exec_user_input\n",
       "    retval = callable_(user_input, user_globals)\n",
       "  File \"<string>\", line 1, in <module>\n",
       "TypeError: strftime() takes at least 1 argument (0 given)\n",
       "\n"
      ]
     },
     "metadata": {},
     "output_type": "display_data"
    }
   ],
   "source": [
    "time.strftime()"
   ]
  },
  {
   "cell_type": "code",
   "execution_count": null,
   "metadata": {},
   "outputs": [
    {
     "data": {
      "text/plain": [
       "241216\n"
      ]
     },
     "metadata": {},
     "output_type": "display_data"
    }
   ],
   "source": [
    "time.strftime(\"%y%m%d\")"
   ]
  },
  {
   "cell_type": "code",
   "execution_count": null,
   "metadata": {},
   "outputs": [
    {
     "data": {
      "text/plain": [
       "241216_Dec12\n"
      ]
     },
     "metadata": {},
     "output_type": "display_data"
    }
   ],
   "source": [
    "time.strftime(\"%y%m%d_%h%m\")"
   ]
  },
  {
   "cell_type": "code",
   "execution_count": null,
   "metadata": {},
   "outputs": [
    {
     "data": {
      "text/plain": [
       "241216_0729\n"
      ]
     },
     "metadata": {},
     "output_type": "display_data"
    }
   ],
   "source": [
    "time.strftime(\"%y%m%d_%H%M\")"
   ]
  },
  {
   "cell_type": "code",
   "execution_count": null,
   "metadata": {},
   "outputs": [],
   "source": [
    "property_data = pd.read_parquet(\"outdata/property_data241216_0752.parquet\", engine = \"pyarrow\")\n"
   ]
  },
  {
   "cell_type": "code",
   "execution_count": null,
   "metadata": {},
   "outputs": [
    {
     "data": {
      "text/plain": [
       "                                          address  ...                                 property_desc_text\n",
       "0               62 Tyson Street, Ainslie ACT 2602  ...  Property DescriptionTimeless 1940s Charm with ...\n",
       "1            4/3 Fawkner Street, Braddon ACT 2612  ...  Property DescriptionYour Private Oasis in the ...\n",
       "2             16/54 Moore Street, Turner ACT 2612  ...  Property DescriptionLight Filled Northerly Asp...\n",
       "3            7/52 Macleay Street, Turner ACT 2612  ...  Property DescriptionRare townhouse offering. N...\n",
       "4         124/55 Currong Street, Braddon ACT 2612  ...  Property DescriptionModern ConveniencePosition...\n",
       "..                                            ...  ...                                                ...\n",
       "267         3/71 Torrens Street, Braddon ACT 2612  ...  Property DescriptionAdam Hobill Designed Townh...\n",
       "268      56/43 Constitution Avenue, Reid ACT 2612  ...  Property DescriptionSerene Cosmopolitan Living...\n",
       "269  117/253 Northbourne Avenue, Lyneham ACT 2602  ...  Property DescriptionThe perfect combination of...\n",
       "270   24/219A Northbourne Avenue, Turner ACT 2612  ...  Property DescriptionTwo balconies provide prim...\n",
       "271      136/5 Donaldson Street, Braddon ACT 2612  ...  Property DescriptionLuxury Meets Convenience a...\n",
       "\n",
       "[272 rows x 9 columns]\n"
      ]
     },
     "metadata": {},
     "output_type": "display_data"
    }
   ],
   "source": [
    "property_data\n"
   ]
  },
  {
   "cell_type": "code",
   "execution_count": null,
   "metadata": {},
   "outputs": [],
   "source": [
    "def run_chatgpt():\n",
    "    print(openai_key)\n",
    "\n",
    "client = OpenAI(\n",
    "    api_key = openai_key\n",
    ")\n",
    "\n"
   ]
  },
  {
   "cell_type": "code",
   "execution_count": null,
   "metadata": {},
   "outputs": [],
   "source": [
    "base_prompt = \"I will pass you  a real estate listing. Return the: strata costs, rates, rental estimate, internal size and external size. Format the response with one line per item and the format \\\"item: value\\\". If you are unsure write \\\"unsure\\\". If the lising does not include an item write: \\\"n/a\\\". Return the data as a json array with the following properties: [strata_costs, rates, rental_estimate, internal_size_sqm, external_size_sqm]. The listing is:\"\n"
   ]
  },
  {
   "cell_type": "code",
   "execution_count": null,
   "metadata": {},
   "outputs": [],
   "source": [
    "listings_description = property_data[\"property_desc_text\"]\n"
   ]
  },
  {
   "cell_type": "code",
   "execution_count": null,
   "metadata": {},
   "outputs": [],
   "source": [
    "listing_summary = []\n"
   ]
  },
  {
   "cell_type": "code",
   "execution_count": null,
   "metadata": {},
   "outputs": [],
   "source": [
    "for listing in listings_description[0:10]:\n",
    "    chat_gpt_output = get_chat_gpt_response(base_prompt+listing)\n",
    "    chat_gpt_output_clean = re.sub(\"json\", \"\", chat_gpt_output)\n",
    "    chat_gpt_output_clean = re.sub(\"\\n\", \"\", chat_gpt_output_clean)\n",
    "    chat_gpt_output_clean = re.sub(\"```\", \"\", chat_gpt_output_clean)\n",
    "    listing_summary.append(json.loads(chat_gpt_output_clean))\n",
    "\n"
   ]
  },
  {
   "cell_type": "code",
   "execution_count": null,
   "metadata": {},
   "outputs": [
    {
     "data": {
      "text/plain": [
       "[{'strata_costs': 'n/a', 'rates': 'n/a', 'rental_estimate': 'unsure', 'internal_size_sqm': '248.31', 'external_size_sqm': '1077'}, {'strata_costs': '2770', 'rates': '583', 'rental_estimate': '590 - 620', 'internal_size_sqm': '69', 'external_size_sqm': '30'}, {'strata_costs': 1492, 'rates': 496, 'rental_estimate': 'unsure', 'internal_size_sqm': 87, 'external_size_sqm': 7}, {'strata_costs': '5323 p.a.', 'rates': {'general': '1813 p.a.', 'land_tax': '2317 p.a.', 'water_sewerage': '740 p.a.'}, 'rental_estimate': '630/wk', 'internal_size_sqm': '71', 'external_size_sqm': '21'}, {'strata_costs': 1372.4, 'rates': 446.0, 'rental_estimate': '650.00 - 700.00', 'internal_size_sqm': 65, 'external_size_sqm': 9}, {'strata_costs': 'n/a', 'rates': '1,395 p/a', 'rental_estimate': 'unsure', 'internal_size_sqm': '85', 'external_size_sqm': '12'}, {'strata_costs': '$1,158pq', 'rates': '$2,410pa', 'rental_estimate': 'unsure', 'internal_size_sqm': '102', 'external_size_sqm': '26'}, {'strata_costs': '7782', 'rates': '1976', 'rental_estimate': '820', 'internal_size_sqm': '121', 'external_size_sqm': '18'}, {'strata_costs': '$1,204 pq', 'rates': '$2,156 pa', 'rental_estimate': 'unsure', 'internal_size_sqm': 96, 'external_size_sqm': 9}, {'strata_costs': '$1,490.03 per quarter', 'rates': '$526.20 per quarter', 'rental_estimate': '$700-$750 per week', 'internal_size_sqm': '99', 'external_size_sqm': '54'}]\n"
      ]
     },
     "metadata": {},
     "output_type": "display_data"
    }
   ],
   "source": [
    "listing_summary\n"
   ]
  },
  {
   "cell_type": "code",
   "execution_count": null,
   "metadata": {},
   "outputs": [],
   "source": [
    "listing_df  = pd.DataFrame.from_records(listing_summary)\n"
   ]
  },
  {
   "cell_type": "code",
   "execution_count": null,
   "metadata": {},
   "outputs": [
    {
     "data": {
      "text/plain": [
       "            strata_costs  ... external_size_sqm\n",
       "0                    n/a  ...              1077\n",
       "1                   2770  ...                30\n",
       "2                   1492  ...                 7\n",
       "3              5323 p.a.  ...                21\n",
       "4                 1372.4  ...                 9\n",
       "5                    n/a  ...                12\n",
       "6               $1,158pq  ...                26\n",
       "7                   7782  ...                18\n",
       "8              $1,204 pq  ...                 9\n",
       "9  $1,490.03 per quarter  ...                54\n",
       "\n",
       "[10 rows x 5 columns]\n"
      ]
     },
     "metadata": {},
     "output_type": "display_data"
    }
   ],
   "source": [
    "listing_df\n"
   ]
  },
  {
   "cell_type": "code",
   "execution_count": null,
   "metadata": {},
   "outputs": [
    {
     "data": {
      "text/plain": [
       "0      Property DescriptionTimeless 1940s Charm with ...\n",
       "1      Property DescriptionYour Private Oasis in the ...\n",
       "2      Property DescriptionLight Filled Northerly Asp...\n",
       "3      Property DescriptionRare townhouse offering. N...\n",
       "4      Property DescriptionModern ConveniencePosition...\n",
       "                             ...                        \n",
       "267    Property DescriptionAdam Hobill Designed Townh...\n",
       "268    Property DescriptionSerene Cosmopolitan Living...\n",
       "269    Property DescriptionThe perfect combination of...\n",
       "270    Property DescriptionTwo balconies provide prim...\n",
       "271    Property DescriptionLuxury Meets Convenience a...\n",
       "Name: property_desc_text, Length: 272, dtype: object\n"
      ]
     },
     "metadata": {},
     "output_type": "display_data"
    }
   ],
   "source": [
    "listings_description\n"
   ]
  },
  {
   "cell_type": "code",
   "execution_count": null,
   "metadata": {},
   "outputs": [],
   "source": [
    "base_prompt = \"I will pass you a real estate listing.\\\n",
    "    Return the: strata costs, rates, rental estimate, internal size and external size.\\\n",
    "    Format the response with one line per item and the format \\\"item: value\\\".\\\n",
    "        The value should be a single number. For each metric, include the unit (e.g. $ per year or $ per quarter) in a separate column.\\\n",
    "    If you are unsure write \\\"unsure\\\". If the lising does not include an item write: \\\"n/a\\\".\\\n",
    "    Return the data as a json array with the following properties: [strata_costs, strata_cost_unit, rates, rates_unit,\\\n",
    "        rental_estimate, rental_estimate_unit, internal_size, internal_size_unit,\\\n",
    "        external_size, external_size_unit].\\\n",
    "    The listing is:\"\n",
    "\n",
    "listings_description = property_data[\"property_desc_text\"]\n",
    "listing_summary = []\n",
    "for listing in listings_description[0:10]:\n",
    "    chat_gpt_output = get_chat_gpt_response(base_prompt+listing)\n",
    "    chat_gpt_output_clean = re.sub(\"json\", \"\", chat_gpt_output)\n",
    "    chat_gpt_output_clean = re.sub(\"\\n\", \"\", chat_gpt_output_clean)\n",
    "    chat_gpt_output_clean = re.sub(\"```\", \"\", chat_gpt_output_clean)\n",
    "    listing_summary.append(json.loads(chat_gpt_output_clean))\n",
    "\n",
    "listing_df  = pd.DataFrame.from_records(listing_summary)\n"
   ]
  },
  {
   "cell_type": "code",
   "execution_count": null,
   "metadata": {},
   "outputs": [
    {
     "data": {
      "text/plain": [
       "                                                   0  ...                   9\n",
       "0                                                n/a  ...                  m²\n",
       "1  {'strata_costs': 2770, 'strata_cost_unit': 'pe...  ...                None\n",
       "2  {'strata_costs': 1492, 'strata_cost_unit': '$ ...  ...                None\n",
       "3                                       strata_costs  ...  external_size_unit\n",
       "4  {'strata_costs': 1372.4, 'strata_cost_unit': '...  ...                None\n",
       "5  {'strata_costs': 1192, 'strata_cost_unit': '$ ...  ...                None\n",
       "6  {'strata_costs': 1158, 'strata_cost_unit': '$ ...  ...                None\n",
       "7                                       strata_costs  ...  external_size_unit\n",
       "8  {'strata_costs': 1204, 'strata_cost_unit': '$ ...  ...                None\n",
       "9  {'strata_costs': 1490.03, 'strata_cost_unit': ...  ...                None\n",
       "\n",
       "[10 rows x 10 columns]\n"
      ]
     },
     "metadata": {},
     "output_type": "display_data"
    }
   ],
   "source": [
    "listing_df\n"
   ]
  },
  {
   "cell_type": "code",
   "execution_count": null,
   "metadata": {},
   "outputs": [
    {
     "data": {
      "text/plain": [
       "[['n/a', 'n/a', 'n/a', 'n/a', 140.81, 'm²', 248.31, 'm²', 1077, 'm²'], [{'strata_costs': 2770, 'strata_cost_unit': 'per quarter', 'rates': 583, 'rates_unit': 'per quarter', 'rental_estimate': 590, 'rental_estimate_unit': 'per week', 'internal_size': 69, 'internal_size_unit': 'm²', 'external_size': 30, 'external_size_unit': 'm²'}], [{'strata_costs': 1492, 'strata_cost_unit': '$ per quarter'}, {'rates': 496, 'rates_unit': '$ per quarter'}, {'rental_estimate': 'unsure', 'rental_estimate_unit': 'unsure'}, {'internal_size': 87, 'internal_size_unit': 'm²'}, {'external_size': 7, 'external_size_unit': 'm²'}], {'strata_costs': 5323, 'strata_cost_unit': 'p.a.', 'rates': 1813, 'rates_unit': 'p.a.', 'rental_estimate': 630, 'rental_estimate_unit': 'wk', 'internal_size': 71, 'internal_size_unit': 'm2', 'external_size': 21, 'external_size_unit': 'm2'}, [{'strata_costs': 1372.4, 'strata_cost_unit': 'per quarter', 'rates': 446.0, 'rates_unit': 'per quarter', 'rental_estimate': 675.0, 'rental_estimate_unit': 'per week', 'internal_size': 65, 'internal_size_unit': 'm2', 'external_size': 9, 'external_size_unit': 'm2'}], [{'strata_costs': 1192, 'strata_cost_unit': '$ per quarter', 'rates': 1395, 'rates_unit': '$ per year', 'rental_estimate': 'unsure', 'rental_estimate_unit': 'unsure', 'internal_size': 85, 'internal_size_unit': 'm2', 'external_size': 12, 'external_size_unit': 'm2'}], [{'strata_costs': 1158, 'strata_cost_unit': '$ per quarter'}, {'rates': 2410, 'rates_unit': '$ per year'}, {'rental_estimate': 'unsure', 'rental_estimate_unit': 'n/a'}, {'internal_size': 102, 'internal_size_unit': 'sqm'}, {'external_size': 26, 'external_size_unit': 'sqm'}], {'strata_costs': 7782, 'strata_cost_unit': '$ per year', 'rates': 1976, 'rates_unit': '$ per year', 'rental_estimate': 820, 'rental_estimate_unit': '$ per week', 'internal_size': 121, 'internal_size_unit': 'm2', 'external_size': 15, 'external_size_unit': 'm2'}, [{'strata_costs': 1204, 'strata_cost_unit': '$ per quarter'}, {'rates': 2156, 'rates_unit': '$ per year'}, {'rental_estimate': 'unsure', 'rental_estimate_unit': 'unsure'}, {'internal_size': 96, 'internal_size_unit': 'sqm'}, {'external_size': 9, 'external_size_unit': 'sqm'}], [{'strata_costs': 1490.03, 'strata_cost_unit': '$ per quarter'}, {'rates': 526.2, 'rates_unit': '$ per quarter'}, {'rental_estimate': 725, 'rental_estimate_unit': '$ per week'}, {'internal_size': 99, 'internal_size_unit': 'm²'}, {'external_size': 54, 'external_size_unit': 'm²'}]]\n"
      ]
     },
     "metadata": {},
     "output_type": "display_data"
    }
   ],
   "source": [
    "listing_summary\n"
   ]
  },
  {
   "cell_type": "code",
   "execution_count": null,
   "metadata": {},
   "outputs": [
    {
     "data": {
      "text/plain": [
       "                                                   0  ...                   9\n",
       "0                                                n/a  ...                  m²\n",
       "1  {'strata_costs': 2770, 'strata_cost_unit': 'pe...  ...                None\n",
       "2  {'strata_costs': 1492, 'strata_cost_unit': '$ ...  ...                None\n",
       "3                                       strata_costs  ...  external_size_unit\n",
       "4  {'strata_costs': 1372.4, 'strata_cost_unit': '...  ...                None\n",
       "5  {'strata_costs': 1192, 'strata_cost_unit': '$ ...  ...                None\n",
       "6  {'strata_costs': 1158, 'strata_cost_unit': '$ ...  ...                None\n",
       "7                                       strata_costs  ...  external_size_unit\n",
       "8  {'strata_costs': 1204, 'strata_cost_unit': '$ ...  ...                None\n",
       "9  {'strata_costs': 1490.03, 'strata_cost_unit': ...  ...                None\n",
       "\n",
       "[10 rows x 10 columns]\n"
      ]
     },
     "metadata": {},
     "output_type": "display_data"
    }
   ],
   "source": [
    "listing_df\n"
   ]
  },
  {
   "cell_type": "code",
   "execution_count": null,
   "metadata": {},
   "outputs": [],
   "source": [
    "listing_df  = pd.DataFrame.from_records(listing_summary[1:10])"
   ]
  },
  {
   "cell_type": "code",
   "execution_count": null,
   "metadata": {},
   "outputs": [
    {
     "data": {
      "text/plain": [
       "                                                   0  ...                   9\n",
       "0  {'strata_costs': 2770, 'strata_cost_unit': 'pe...  ...                None\n",
       "1  {'strata_costs': 1492, 'strata_cost_unit': '$ ...  ...                None\n",
       "2                                       strata_costs  ...  external_size_unit\n",
       "3  {'strata_costs': 1372.4, 'strata_cost_unit': '...  ...                None\n",
       "4  {'strata_costs': 1192, 'strata_cost_unit': '$ ...  ...                None\n",
       "5  {'strata_costs': 1158, 'strata_cost_unit': '$ ...  ...                None\n",
       "6                                       strata_costs  ...  external_size_unit\n",
       "7  {'strata_costs': 1204, 'strata_cost_unit': '$ ...  ...                None\n",
       "8  {'strata_costs': 1490.03, 'strata_cost_unit': ...  ...                None\n",
       "\n",
       "[9 rows x 10 columns]\n"
      ]
     },
     "metadata": {},
     "output_type": "display_data"
    }
   ],
   "source": [
    "listing_df\n"
   ]
  },
  {
   "cell_type": "code",
   "execution_count": null,
   "metadata": {},
   "outputs": [],
   "source": [
    "listing_df  = pd.DataFrame.from_records(listing_summary[1])"
   ]
  },
  {
   "cell_type": "code",
   "execution_count": null,
   "metadata": {},
   "outputs": [
    {
     "data": {
      "text/plain": [
       "   strata_costs strata_cost_unit  ...  external_size external_size_unit\n",
       "0          2770      per quarter  ...             30                 m²\n",
       "\n",
       "[1 rows x 10 columns]\n"
      ]
     },
     "metadata": {},
     "output_type": "display_data"
    }
   ],
   "source": [
    "listing_df\n"
   ]
  },
  {
   "cell_type": "code",
   "execution_count": null,
   "metadata": {},
   "outputs": [
    {
     "data": {
      "text/plain": [
       "Traceback (most recent call last):\n",
       "  File \"/Users/ethanryan/.vscode/extensions/ms-python.python-2024.22.0-darwin-arm64/python_files/python_server.py\", line 133, in exec_user_input\n",
       "    retval = callable_(user_input, user_globals)\n",
       "  File \"<string>\", line 1, in <module>\n",
       "  File \"/opt/homebrew/lib/python3.9/site-packages/pandas/core/frame.py\", line 2222, in from_records\n",
       "    arrays, arr_columns = to_arrays(data, columns)\n",
       "  File \"/opt/homebrew/lib/python3.9/site-packages/pandas/core/internals/construction.py\", line 875, in to_arrays\n",
       "    arr, columns = _list_of_dict_to_arrays(data, columns)\n",
       "  File \"/opt/homebrew/lib/python3.9/site-packages/pandas/core/internals/construction.py\", line 960, in _list_of_dict_to_arrays\n",
       "    pre_cols = lib.fast_unique_multiple_list_gen(gen, sort=sort)\n",
       "  File \"pandas/_libs/lib.pyx\", line 403, in pandas._libs.lib.fast_unique_multiple_list_gen\n",
       "  File \"/opt/homebrew/lib/python3.9/site-packages/pandas/core/internals/construction.py\", line 958, in <genexpr>\n",
       "    gen = (list(x.keys()) for x in data)\n",
       "AttributeError: 'list' object has no attribute 'keys'\n",
       "\n"
      ]
     },
     "metadata": {},
     "output_type": "display_data"
    }
   ],
   "source": [
    "listing_df  = pd.DataFrame.from_records(listing_summary[3:5])"
   ]
  },
  {
   "cell_type": "code",
   "execution_count": null,
   "metadata": {},
   "outputs": [
    {
     "data": {
      "text/plain": [
       "[{'strata_costs': 5323, 'strata_cost_unit': 'p.a.', 'rates': 1813, 'rates_unit': 'p.a.', 'rental_estimate': 630, 'rental_estimate_unit': 'wk', 'internal_size': 71, 'internal_size_unit': 'm2', 'external_size': 21, 'external_size_unit': 'm2'}, [{'strata_costs': 1372.4, 'strata_cost_unit': 'per quarter', 'rates': 446.0, 'rates_unit': 'per quarter', 'rental_estimate': 675.0, 'rental_estimate_unit': 'per week', 'internal_size': 65, 'internal_size_unit': 'm2', 'external_size': 9, 'external_size_unit': 'm2'}]]\n"
      ]
     },
     "metadata": {},
     "output_type": "display_data"
    }
   ],
   "source": [
    "listing_summary[3:5]\n"
   ]
  },
  {
   "cell_type": "code",
   "execution_count": null,
   "metadata": {},
   "outputs": [],
   "source": [
    "base_prompt = \"I will pass you a real estate listing.\\\n",
    "    Return the: strata costs, rates, rental estimate, internal size and external size.\\\n",
    "    Format the response with one line per item and the format \\\"item: value\\\".\\\n",
    "    For the strata costs, rates and rental estimates, include a column with the time period (e.g. week, quaryer or year/annum)\\\n",
    "    If you are unsure write \\\"unsure\\\". If the lising does not include an item write: \\\"n/a\\\".\\\n",
    "    Return the data as a json array with the following properties: [strata_costs, strata_cost_unit, rates, rates_unit,\\\n",
    "        rental_estimate, rental_estimate_unit, internal_size,\\\n",
    "        external_size].\\\n",
    "    The listing is:\"\n",
    "\n",
    "listings_description = property_data[\"property_desc_text\"]\n",
    "listing_summary = []\n",
    "for listing in listings_description[0:5]:\n",
    "    chat_gpt_output = get_chat_gpt_response(base_prompt+listing)\n",
    "    chat_gpt_output_clean = re.sub(\"json\", \"\", chat_gpt_output)\n",
    "    chat_gpt_output_clean = re.sub(\"\\n\", \"\", chat_gpt_output_clean)\n",
    "    chat_gpt_output_clean = re.sub(\"```\", \"\", chat_gpt_output_clean)\n",
    "    listing_summary.append(json.loads(chat_gpt_output_clean))\n",
    "\n",
    "listing_df  = pd.DataFrame.from_records(listing_summary[3:5])"
   ]
  },
  {
   "cell_type": "code",
   "execution_count": null,
   "metadata": {},
   "outputs": [
    {
     "data": {
      "text/plain": [
       "   strata_costs strata_cost_unit  ...  internal_size external_size\n",
       "0        5323.0             year  ...             71            21\n",
       "1        1372.4          quarter  ...             65             9\n",
       "\n",
       "[2 rows x 8 columns]\n"
      ]
     },
     "metadata": {},
     "output_type": "display_data"
    }
   ],
   "source": [
    "listing_df\n"
   ]
  },
  {
   "cell_type": "code",
   "execution_count": null,
   "metadata": {},
   "outputs": [],
   "source": [
    "listing_df  = pd.DataFrame.from_records(listing_summary[0:5])"
   ]
  },
  {
   "cell_type": "code",
   "execution_count": null,
   "metadata": {},
   "outputs": [
    {
     "data": {
      "text/plain": [
       "                                                   0  ...              7\n",
       "0  {'strata_costs': 'n/a', 'strata_cost_unit': 'n...  ...           None\n",
       "1  {'strata_costs': 2770, 'strata_cost_unit': 'qu...  ...           None\n",
       "2                                       strata_costs  ...  external_size\n",
       "3                                       strata_costs  ...  external_size\n",
       "4                                       strata_costs  ...  external_size\n",
       "\n",
       "[5 rows x 8 columns]\n"
      ]
     },
     "metadata": {},
     "output_type": "display_data"
    }
   ],
   "source": [
    "listing_df\n"
   ]
  },
  {
   "cell_type": "code",
   "execution_count": null,
   "metadata": {},
   "outputs": [
    {
     "data": {
      "text/plain": [
       "[[{'strata_costs': 'n/a', 'strata_cost_unit': 'n/a', 'rates': 'unsure', 'rates_unit': 'unsure', 'rental_estimate': 'unsure', 'rental_estimate_unit': 'unsure', 'internal_size': '248.31', 'external_size': '1077'}], [{'strata_costs': 2770, 'strata_cost_unit': 'quarter', 'rates': 583, 'rates_unit': 'quarter', 'rental_estimate': '590 - 620', 'rental_estimate_unit': 'week', 'internal_size': 69, 'external_size': 30}], {'strata_costs': 1492, 'strata_cost_unit': 'quarter', 'rates': 496, 'rates_unit': 'quarter', 'rental_estimate': 'unsure', 'rental_estimate_unit': 'unsure', 'internal_size': 87, 'external_size': 7}, {'strata_costs': 5323, 'strata_cost_unit': 'year', 'rates': 1813, 'rates_unit': 'year', 'rental_estimate': 630, 'rental_estimate_unit': 'week', 'internal_size': 71, 'external_size': 21}, {'strata_costs': 1372.4, 'strata_cost_unit': 'quarter', 'rates': 446.0, 'rates_unit': 'quarter', 'rental_estimate': '650.00 - 700.00', 'rental_estimate_unit': 'week', 'internal_size': 65, 'external_size': 9}]\n"
      ]
     },
     "metadata": {},
     "output_type": "display_data"
    }
   ],
   "source": [
    "listing_summary\n"
   ]
  },
  {
   "cell_type": "code",
   "execution_count": null,
   "metadata": {},
   "outputs": [
    {
     "data": {
      "text/plain": [
       "0      Property DescriptionTimeless 1940s Charm with ...\n",
       "1      Property DescriptionYour Private Oasis in the ...\n",
       "2      Property DescriptionLight Filled Northerly Asp...\n",
       "3      Property DescriptionRare townhouse offering. N...\n",
       "4      Property DescriptionModern ConveniencePosition...\n",
       "                             ...                        \n",
       "267    Property DescriptionAdam Hobill Designed Townh...\n",
       "268    Property DescriptionSerene Cosmopolitan Living...\n",
       "269    Property DescriptionThe perfect combination of...\n",
       "270    Property DescriptionTwo balconies provide prim...\n",
       "271    Property DescriptionLuxury Meets Convenience a...\n",
       "Name: property_desc_text, Length: 272, dtype: object\n"
      ]
     },
     "metadata": {},
     "output_type": "display_data"
    }
   ],
   "source": [
    "listings_description\n"
   ]
  },
  {
   "cell_type": "code",
   "execution_count": null,
   "metadata": {},
   "outputs": [
    {
     "data": {
      "text/plain": [
       "                                          address  ...                                 property_desc_text\n",
       "0               62 Tyson Street, Ainslie ACT 2602  ...  Property DescriptionTimeless 1940s Charm with ...\n",
       "1            4/3 Fawkner Street, Braddon ACT 2612  ...  Property DescriptionYour Private Oasis in the ...\n",
       "2             16/54 Moore Street, Turner ACT 2612  ...  Property DescriptionLight Filled Northerly Asp...\n",
       "3            7/52 Macleay Street, Turner ACT 2612  ...  Property DescriptionRare townhouse offering. N...\n",
       "4         124/55 Currong Street, Braddon ACT 2612  ...  Property DescriptionModern ConveniencePosition...\n",
       "..                                            ...  ...                                                ...\n",
       "267         3/71 Torrens Street, Braddon ACT 2612  ...  Property DescriptionAdam Hobill Designed Townh...\n",
       "268      56/43 Constitution Avenue, Reid ACT 2612  ...  Property DescriptionSerene Cosmopolitan Living...\n",
       "269  117/253 Northbourne Avenue, Lyneham ACT 2602  ...  Property DescriptionThe perfect combination of...\n",
       "270   24/219A Northbourne Avenue, Turner ACT 2612  ...  Property DescriptionTwo balconies provide prim...\n",
       "271      136/5 Donaldson Street, Braddon ACT 2612  ...  Property DescriptionLuxury Meets Convenience a...\n",
       "\n",
       "[272 rows x 9 columns]\n"
      ]
     },
     "metadata": {},
     "output_type": "display_data"
    }
   ],
   "source": [
    "property_data\n"
   ]
  },
  {
   "cell_type": "code",
   "execution_count": null,
   "metadata": {},
   "outputs": [
    {
     "data": {
      "text/plain": [
       "                                                   0  ...              7\n",
       "0  {'strata_costs': 'n/a', 'strata_cost_unit': 'n...  ...           None\n",
       "1  {'strata_costs': 2770, 'strata_cost_unit': 'qu...  ...           None\n",
       "2                                       strata_costs  ...  external_size\n",
       "3                                       strata_costs  ...  external_size\n",
       "4                                       strata_costs  ...  external_size\n",
       "\n",
       "[5 rows x 8 columns]\n"
      ]
     },
     "metadata": {},
     "output_type": "display_data"
    }
   ],
   "source": [
    "listing_df\n"
   ]
  },
  {
   "cell_type": "code",
   "execution_count": null,
   "metadata": {},
   "outputs": [],
   "source": [
    "listing_df  = pd.DataFrame.from_records(listing_summary[1:5])"
   ]
  },
  {
   "cell_type": "code",
   "execution_count": null,
   "metadata": {},
   "outputs": [
    {
     "data": {
      "text/plain": [
       "                                                   0  ...              7\n",
       "0  {'strata_costs': 2770, 'strata_cost_unit': 'qu...  ...           None\n",
       "1                                       strata_costs  ...  external_size\n",
       "2                                       strata_costs  ...  external_size\n",
       "3                                       strata_costs  ...  external_size\n",
       "\n",
       "[4 rows x 8 columns]\n"
      ]
     },
     "metadata": {},
     "output_type": "display_data"
    }
   ],
   "source": [
    "listing_df\n"
   ]
  },
  {
   "cell_type": "code",
   "execution_count": null,
   "metadata": {},
   "outputs": [],
   "source": [
    "listing_df  = pd.DataFrame.from_records(listing_summary[2:5])"
   ]
  },
  {
   "cell_type": "code",
   "execution_count": null,
   "metadata": {},
   "outputs": [
    {
     "data": {
      "text/plain": [
       "   strata_costs strata_cost_unit  ...  internal_size external_size\n",
       "0        1492.0          quarter  ...             87             7\n",
       "1        5323.0             year  ...             71            21\n",
       "2        1372.4          quarter  ...             65             9\n",
       "\n",
       "[3 rows x 8 columns]\n"
      ]
     },
     "metadata": {},
     "output_type": "display_data"
    }
   ],
   "source": [
    "listing_df\n"
   ]
  },
  {
   "cell_type": "code",
   "execution_count": null,
   "metadata": {},
   "outputs": [],
   "source": []
  }
 ],
 "metadata": {
  "language_info": {
   "name": "python"
  }
 },
 "nbformat": 4,
 "nbformat_minor": 2
}
